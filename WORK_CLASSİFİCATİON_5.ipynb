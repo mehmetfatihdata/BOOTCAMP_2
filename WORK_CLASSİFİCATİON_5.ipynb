{
 "cells": [
  {
   "cell_type": "markdown",
   "metadata": {},
   "source": [
    "## mehmetfatihdata"
   ]
  },
  {
   "cell_type": "code",
   "execution_count": 24,
   "metadata": {},
   "outputs": [],
   "source": [
    "import pandas as pd\n",
    "import numpy as np\n",
    "import seaborn as sns\n",
    "import matplotlib.pyplot as plt\n",
    "from sklearn import datasets\n",
    "import warnings\n",
    "warnings.filterwarnings('ignore')\n"
   ]
  },
  {
   "cell_type": "code",
   "execution_count": 2,
   "metadata": {
    "scrolled": false
   },
   "outputs": [
    {
     "data": {
      "text/html": [
       "<div>\n",
       "<style scoped>\n",
       "    .dataframe tbody tr th:only-of-type {\n",
       "        vertical-align: middle;\n",
       "    }\n",
       "\n",
       "    .dataframe tbody tr th {\n",
       "        vertical-align: top;\n",
       "    }\n",
       "\n",
       "    .dataframe thead th {\n",
       "        text-align: right;\n",
       "    }\n",
       "</style>\n",
       "<table border=\"1\" class=\"dataframe\">\n",
       "  <thead>\n",
       "    <tr style=\"text-align: right;\">\n",
       "      <th></th>\n",
       "      <th>PassengerId</th>\n",
       "      <th>Survived</th>\n",
       "      <th>Pclass</th>\n",
       "      <th>Name</th>\n",
       "      <th>Sex</th>\n",
       "      <th>Age</th>\n",
       "      <th>SibSp</th>\n",
       "      <th>Parch</th>\n",
       "      <th>Ticket</th>\n",
       "      <th>Fare</th>\n",
       "      <th>Cabin</th>\n",
       "      <th>Embarked</th>\n",
       "    </tr>\n",
       "  </thead>\n",
       "  <tbody>\n",
       "    <tr>\n",
       "      <td>0</td>\n",
       "      <td>1</td>\n",
       "      <td>0</td>\n",
       "      <td>3</td>\n",
       "      <td>Braund, Mr. Owen Harris</td>\n",
       "      <td>male</td>\n",
       "      <td>22.0</td>\n",
       "      <td>1</td>\n",
       "      <td>0</td>\n",
       "      <td>A/5 21171</td>\n",
       "      <td>7.25</td>\n",
       "      <td>NaN</td>\n",
       "      <td>S</td>\n",
       "    </tr>\n",
       "  </tbody>\n",
       "</table>\n",
       "</div>"
      ],
      "text/plain": [
       "   PassengerId  Survived  Pclass                     Name   Sex   Age  SibSp  \\\n",
       "0            1         0       3  Braund, Mr. Owen Harris  male  22.0      1   \n",
       "\n",
       "   Parch     Ticket  Fare Cabin Embarked  \n",
       "0      0  A/5 21171  7.25   NaN        S  "
      ]
     },
     "execution_count": 2,
     "metadata": {},
     "output_type": "execute_result"
    }
   ],
   "source": [
    "titanic=pd.read_csv('dataset/titanic.csv')\n",
    "titanic.head(1)"
   ]
  },
  {
   "cell_type": "code",
   "execution_count": 3,
   "metadata": {
    "scrolled": true
   },
   "outputs": [
    {
     "data": {
      "text/plain": [
       "0.0"
      ]
     },
     "execution_count": 3,
     "metadata": {},
     "output_type": "execute_result"
    }
   ],
   "source": [
    "titanic[\"sex\"]=titanic.Sex.replace({'female':1,'male':0})\n",
    "titanic=titanic.drop(columns='Sex',axis=0)\n",
    "titanic['Age_inter'] = titanic.groupby(\"sex\")['Age'].transform(lambda x: x.interpolate())\n",
    "titanic['Age_inter'].isnull().sum()/len(titanic)"
   ]
  },
  {
   "cell_type": "code",
   "execution_count": 15,
   "metadata": {},
   "outputs": [],
   "source": [
    "titanic['Age']=titanic['Age_inter']\n",
    "X = titanic [['PassengerId', 'Pclass', 'SibSp','Age', 'sex',\n",
    "       'Parch', 'Fare']]\n",
    "y = titanic['Survived']"
   ]
  },
  {
   "cell_type": "code",
   "execution_count": 23,
   "metadata": {},
   "outputs": [
    {
     "name": "stdout",
     "output_type": "stream",
     "text": [
      "891 891\n",
      "Veri kümesinde 891 satır  veri bulunmakta...\n"
     ]
    }
   ],
   "source": [
    "print(len(X), len(y))\n",
    "print(\"Veri kümesinde {} satır  veri bulunmakta...\".format(len(X)))"
   ]
  },
  {
   "cell_type": "code",
   "execution_count": 17,
   "metadata": {
    "scrolled": true
   },
   "outputs": [],
   "source": [
    "from sklearn.model_selection import train_test_split\n",
    "X_eğitim, X_test, y_eğitim, y_test =  train_test_split(X, y, test_size=0.20, random_state=111)"
   ]
  },
  {
   "cell_type": "code",
   "execution_count": 25,
   "metadata": {},
   "outputs": [
    {
     "name": "stdout",
     "output_type": "stream",
     "text": [
      "Eğitim veri kümesindeki satır sayısı :  712 \n",
      "Eğitim veri kümesindeki hedef sayısı :  712 \n",
      "Test veri kümesindeki satır sayısı :  179 \n",
      "Test veri kümesindeki hedef sayısı :  179 \n"
     ]
    }
   ],
   "source": [
    "plt.style.use('fivethirtyeight')\n",
    "\n",
    "X_egitim, X_test, y_egitim, y_test = train_test_split(X, y, test_size=0.2)\n",
    "print(\"Eğitim veri kümesindeki satır sayısı :  {} \".format(len(X_egitim)))\n",
    "print(\"Eğitim veri kümesindeki hedef sayısı :  {} \".format(len(y_egitim)))\n",
    "print(\"Test veri kümesindeki satır sayısı :  {} \".format(len(X_test)))\n",
    "print(\"Test veri kümesindeki hedef sayısı :  {} \".format(len(y_test)))"
   ]
  },
  {
   "cell_type": "code",
   "execution_count": 29,
   "metadata": {},
   "outputs": [
    {
     "data": {
      "image/png": "[encoded data removed]",
      "text/plain": [
       "<Figure size 720x360 with 3 Axes>"
      ]
     },
     "metadata": {},
     "output_type": "display_data"
    },
    {
     "name": "stdout",
     "output_type": "stream",
     "text": [
      "Tüm veri kümesi '0' yüzdesi : %62 \n",
      "Test verisi '0' yüzdesi     : %51 \n",
      "Eğitim verisi '0' yüzdesi   : %64 \n"
     ]
    }
   ],
   "source": [
    "plt.figure(figsize=(10,5))\n",
    "plt.subplot(131)\n",
    "sns.countplot(y)\n",
    "plt.title(\"Tüm veriler\")\n",
    "plt.subplot(132)\n",
    "sns.countplot(y_egitim)\n",
    "plt.title(\"Eğitim veri kümesi\")\n",
    "plt.subplot(133)\n",
    "sns.countplot(y_test)\n",
    "plt.title(\"Test kümesi\")\n",
    "plt.tight_layout()\n",
    "plt.show()\n",
    "print(\"Tüm veri kümesi '0' yüzdesi : %{:.0f} \".format(len(y[y==0])/len(y)*100))\n",
    "print(\"Test verisi '0' yüzdesi     : %{:.0f} \".format(len(y_test[y_test==0])/len(y_test)*100))\n",
    "print(\"Eğitim verisi '0' yüzdesi   : %{:.0f} \".format(len(y_egitim[y_egitim==0])/len(y_egitim)*100))"
   ]
  },
  {
   "cell_type": "markdown",
   "metadata": {},
   "source": [
    "## stratify=y "
   ]
  },
  {
   "cell_type": "code",
   "execution_count": 30,
   "metadata": {},
   "outputs": [
    {
     "name": "stdout",
     "output_type": "stream",
     "text": [
      "Tüm veri kümesi '0' yüzdesi : %62 \n",
      "Test verisi '0' yüzdesi     : %61 \n",
      "Eğitim verisi '0' yüzdesi   : %62 \n"
     ]
    }
   ],
   "source": [
    "X_egitim, X_test, y_egitim, y_test = train_test_split(X, y, test_size=0.2, stratify=y)\n",
    "\n",
    "print(\"Tüm veri kümesi '0' yüzdesi : %{:.0f} \".format(len(y[y==0])/len(y)*100))\n",
    "print(\"Test verisi '0' yüzdesi     : %{:.0f} \".format(len(y_test[y_test==0])/len(y_test)*100))\n",
    "print(\"Eğitim verisi '0' yüzdesi   : %{:.0f} \".format(len(y_egitim[y_egitim==0])/len(y_egitim)*100))"
   ]
  },
  {
   "cell_type": "code",
   "execution_count": 31,
   "metadata": {},
   "outputs": [
    {
     "data": {
      "text/plain": [
       "0.8100558659217877"
      ]
     },
     "execution_count": 31,
     "metadata": {},
     "output_type": "execute_result"
    }
   ],
   "source": [
    "from sklearn.linear_model import LogisticRegression\n",
    "model = LogisticRegression()\n",
    "model.fit(X_egitim, y_egitim)\n",
    "tahmin_eğitim = model.predict(X_egitim)\n",
    "tahmin_test = model.predict(X_test)\n",
    "model.score(X_test, y_test)"
   ]
  },
  {
   "cell_type": "code",
   "execution_count": 39,
   "metadata": {},
   "outputs": [],
   "source": [
    "from sklearn.model_selection import KFold\n",
    "kf = KFold(n_splits=5, shuffle=True, random_state=1111)"
   ]
  },
  {
   "cell_type": "code",
   "execution_count": 38,
   "metadata": {},
   "outputs": [
    {
     "name": "stdout",
     "output_type": "stream",
     "text": [
      "1.Eğitim Kümesi Boyutu : 712\n",
      "1.Test Kümesi Boyutu   : 179\n",
      "---------------------------\n",
      "2.Eğitim Kümesi Boyutu : 713\n",
      "2.Test Kümesi Boyutu   : 178\n",
      "---------------------------\n",
      "3.Eğitim Kümesi Boyutu : 713\n",
      "3.Test Kümesi Boyutu   : 178\n",
      "---------------------------\n",
      "4.Eğitim Kümesi Boyutu : 713\n",
      "4.Test Kümesi Boyutu   : 178\n",
      "---------------------------\n",
      "5.Eğitim Kümesi Boyutu : 713\n",
      "5.Test Kümesi Boyutu   : 178\n",
      "---------------------------\n"
     ]
    }
   ],
   "source": [
    "parcalar = kf.split(X)\n",
    "for num, (eğitim_index, test_index) in enumerate(parcalar):\n",
    "    print(\"{}.Eğitim Kümesi Boyutu : {}\".format(num+1,len(eğitim_index)))\n",
    "    print(\"{}.Test Kümesi Boyutu   : {}\".format(num+1,len(test_index)))\n",
    "    print('-'*27)\n",
    "    "
   ]
  },
  {
   "cell_type": "code",
   "execution_count": 41,
   "metadata": {},
   "outputs": [],
   "source": [
    "from sklearn.metrics import mean_squared_error\n",
    "model2 = LogisticRegression()\n",
    "parcalar = kf.split(X)\n",
    "dogruluk_liste = []"
   ]
  },
  {
   "cell_type": "code",
   "execution_count": null,
   "metadata": {},
   "outputs": [],
   "source": [
    "for i, (eğitim_indeks, test_indeks) in enumerate(parcalar):\n",
    "    X_egitim, y_egitim = X[eğitim_indeks], y[eğitim_indeks]\n",
    "    X_test, y_test = X[test_indeks], y[test_indeks]\n",
    "    model2.fit(X_egitim, y_egitim)\n",
    "    tahmin = model2.predict(X_test)\n",
    "    dogruluk_degeri = model.score(X_test, y_test)  \n",
    "    dogruluk_liste.append(dogruluk_degeri)\n",
    "    print(\"{}.Parça Doğruluk Değeri: {:.3f}\".format(i+1, dogruluk_degeri))\n",
    "    print(\"-\"*30)"
   ]
  },
  {
   "cell_type": "code",
   "execution_count": 36,
   "metadata": {
    "scrolled": true
   },
   "outputs": [
    {
     "name": "stdout",
     "output_type": "stream",
     "text": [
      "Ortalama doğruluk değeri : nan\n"
     ]
    }
   ],
   "source": [
    "print(\"Ortalama doğruluk değeri : {:.2f}\".format(np.mean(dogruluk_liste)))"
   ]
  },
  {
   "cell_type": "code",
   "execution_count": 49,
   "metadata": {},
   "outputs": [],
   "source": [
    "from sklearn.model_selection import cross_validate, cross_val_score"
   ]
  },
  {
   "cell_type": "code",
   "execution_count": 52,
   "metadata": {},
   "outputs": [
    {
     "name": "stdout",
     "output_type": "stream",
     "text": [
      "Test Skorları            : \n",
      "[0.78888889 0.77777778 0.74157303 0.82022472 0.78651685 0.76404494\n",
      " 0.80898876 0.7752809  0.80898876 0.81818182]\n",
      "--------------------------------------------------\n"
     ]
    },
    {
     "ename": "KeyError",
     "evalue": "'train_score'",
     "output_type": "error",
     "traceback": [
      "\u001b[1;31m---------------------------------------------------------------------------\u001b[0m",
      "\u001b[1;31mKeyError\u001b[0m                                  Traceback (most recent call last)",
      "\u001b[1;32m<ipython-input-52-4fc8c4c02412>\u001b[0m in \u001b[0;36m<module>\u001b[1;34m\u001b[0m\n\u001b[0;32m      7\u001b[0m \u001b[0mprint\u001b[0m\u001b[1;33m(\u001b[0m\u001b[1;34m'Test Skorları            : '\u001b[0m\u001b[1;33m,\u001b[0m \u001b[0mcv\u001b[0m\u001b[1;33m[\u001b[0m\u001b[1;34m'test_score'\u001b[0m\u001b[1;33m]\u001b[0m\u001b[1;33m,\u001b[0m \u001b[0msep\u001b[0m \u001b[1;33m=\u001b[0m \u001b[1;34m'\\n'\u001b[0m\u001b[1;33m)\u001b[0m\u001b[1;33m\u001b[0m\u001b[1;33m\u001b[0m\u001b[0m\n\u001b[0;32m      8\u001b[0m \u001b[0mprint\u001b[0m\u001b[1;33m(\u001b[0m\u001b[1;34m\"-\"\u001b[0m\u001b[1;33m*\u001b[0m\u001b[1;36m50\u001b[0m\u001b[1;33m)\u001b[0m\u001b[1;33m\u001b[0m\u001b[1;33m\u001b[0m\u001b[0m\n\u001b[1;32m----> 9\u001b[1;33m \u001b[0mprint\u001b[0m\u001b[1;33m(\u001b[0m\u001b[1;34m'Eğitim Skorları          : '\u001b[0m\u001b[1;33m,\u001b[0m \u001b[0mcv\u001b[0m\u001b[1;33m[\u001b[0m\u001b[1;34m'train_score'\u001b[0m\u001b[1;33m]\u001b[0m\u001b[1;33m,\u001b[0m \u001b[0msep\u001b[0m \u001b[1;33m=\u001b[0m \u001b[1;34m'\\n'\u001b[0m\u001b[1;33m)\u001b[0m\u001b[1;33m\u001b[0m\u001b[1;33m\u001b[0m\u001b[0m\n\u001b[0m",
      "\u001b[1;31mKeyError\u001b[0m: 'train_score'"
     ]
    }
   ],
   "source": [
    "lrm = LogisticRegression()\n",
    "cv = cross_validate(estimator=lrm,\n",
    "                     X=X,\n",
    "                     y=y,\n",
    "                     cv=10,\n",
    "                    )\n",
    "print('Test Skorları            : ', cv['test_score'], sep = '\\n')\n",
    "print(\"-\"*50)\n",
    "print('Eğitim Skorları          : ', cv['train_score'], sep = '\\n')"
   ]
  },
  {
   "cell_type": "code",
   "execution_count": null,
   "metadata": {},
   "outputs": [],
   "source": []
  },
  {
   "cell_type": "code",
   "execution_count": null,
   "metadata": {},
   "outputs": [],
   "source": []
  },
  {
   "cell_type": "code",
   "execution_count": null,
   "metadata": {},
   "outputs": [],
   "source": []
  },
  {
   "cell_type": "markdown",
   "metadata": {},
   "source": [
    "END."
   ]
  }
 ],
 "metadata": {
  "kernelspec": {
   "display_name": "Python 3",
   "language": "python",
   "name": "python3"
  },
  "language_info": {
   "codemirror_mode": {
    "name": "ipython",
    "version": 3
   },
   "file_extension": ".py",
   "mimetype": "text/x-python",
   "name": "python",
   "nbconvert_exporter": "python",
   "pygments_lexer": "ipython3",
   "version": "3.7.4"
  }
 },
 "nbformat": 4,
 "nbformat_minor": 2
}
