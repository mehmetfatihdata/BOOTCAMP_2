{
 "cells": [
  {
   "cell_type": "markdown",
   "metadata": {},
   "source": [
    "# mehmetfatihdata"
   ]
  },
  {
   "cell_type": "code",
   "execution_count": 2,
   "metadata": {},
   "outputs": [],
   "source": [
    "import pandas as pd"
   ]
  },
  {
   "cell_type": "markdown",
   "metadata": {},
   "source": [
    "# Q1:\n",
    "Müşteri sayısı:\n",
    "\n",
    "20’dan fazla olan ülkeler büyük ülke,\n",
    "10 ile 20 arası orta,\n",
    "10’dan az olanlar ise küçük ülke\n",
    "olacak olursa kaç tane büyük,orta, küçük ülke vardır?\n",
    "\n",
    "İpucu: CTE, Case, group by ifadelerini birlikte kullanabilirsiniz."
   ]
  },
  {
   "cell_type": "markdown",
   "metadata": {},
   "source": [
    "WITH musteri AS (\n",
    "SELECT\n",
    "country as ulke,\n",
    "count(*) as musteri_sayisi\n",
    "FROM \n",
    "customers\n",
    "GROUP BY \n",
    "ulke \n",
    "ORDER BY musteri_sayisi DESC)\n",
    "SELECT\n",
    "CASE\n",
    "\twhen musteri_sayisi>20 THEN 'Büyük Ülke'\n",
    "\twhen musteri_sayisi>10 THEN 'Orta Ülke'\n",
    "\tELSE 'Küçük Ülke'\n",
    "\tEND AS ulke_statu,\n",
    "\tcount(1) as ulke_sayı\n",
    "FROM\n",
    "musteri\n",
    "GROUP BY (1);"
   ]
  },
  {
   "cell_type": "code",
   "execution_count": 3,
   "metadata": {
    "scrolled": true
   },
   "outputs": [
    {
     "data": {
      "text/html": [
       "<div>\n",
       "<style scoped>\n",
       "    .dataframe tbody tr th:only-of-type {\n",
       "        vertical-align: middle;\n",
       "    }\n",
       "\n",
       "    .dataframe tbody tr th {\n",
       "        vertical-align: top;\n",
       "    }\n",
       "\n",
       "    .dataframe thead th {\n",
       "        text-align: right;\n",
       "    }\n",
       "</style>\n",
       "<table border=\"1\" class=\"dataframe\">\n",
       "  <thead>\n",
       "    <tr style=\"text-align: right;\">\n",
       "      <th></th>\n",
       "      <th>ulke_sayı</th>\n",
       "    </tr>\n",
       "    <tr>\n",
       "      <th>ulke_statu</th>\n",
       "      <th></th>\n",
       "    </tr>\n",
       "  </thead>\n",
       "  <tbody>\n",
       "    <tr>\n",
       "      <td>Büyük Ülke</td>\n",
       "      <td>1</td>\n",
       "    </tr>\n",
       "    <tr>\n",
       "      <td>Orta Ülke</td>\n",
       "      <td>2</td>\n",
       "    </tr>\n",
       "    <tr>\n",
       "      <td>Küçük Ülke</td>\n",
       "      <td>24</td>\n",
       "    </tr>\n",
       "  </tbody>\n",
       "</table>\n",
       "</div>"
      ],
      "text/plain": [
       "            ulke_sayı\n",
       "ulke_statu           \n",
       "Büyük Ülke          1\n",
       "Orta Ülke           2\n",
       "Küçük Ülke         24"
      ]
     },
     "execution_count": 3,
     "metadata": {},
     "output_type": "execute_result"
    }
   ],
   "source": [
    "cevap=pd.read_csv(\"sql_odev_3_1.csv\", index_col=0)\n",
    "cevap"
   ]
  },
  {
   "cell_type": "markdown",
   "metadata": {},
   "source": [
    "BİTTİ. TEŞEKKÜRLER."
   ]
  }
 ],
 "metadata": {
  "kernelspec": {
   "display_name": "Python 3",
   "language": "python",
   "name": "python3"
  },
  "language_info": {
   "codemirror_mode": {
    "name": "ipython",
    "version": 3
   },
   "file_extension": ".py",
   "mimetype": "text/x-python",
   "name": "python",
   "nbconvert_exporter": "python",
   "pygments_lexer": "ipython3",
   "version": "3.7.4"
  }
 },
 "nbformat": 4,
 "nbformat_minor": 2
}
