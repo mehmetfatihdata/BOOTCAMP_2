{
 "cells": [
  {
   "cell_type": "markdown",
   "metadata": {},
   "source": [
    "# mehmetfatih"
   ]
  },
  {
   "cell_type": "code",
   "execution_count": 1,
   "metadata": {},
   "outputs": [],
   "source": [
    "import matplotlib.pyplot as plt\n",
    "import numpy as np\n",
    "import pandas as pd\n",
    "from sklearn.linear_model import LinearRegression\n",
    "from sklearn.model_selection import train_test_split\n",
    "from sklearn.metrics import mean_absolute_error\n",
    "import statsmodels.api as sm\n",
    "from statsmodels.tools.eval_measures import mse, rmse\n",
    "\n",
    "%matplotlib inline\n",
    "pd.options.display.float_format = '{:.3f}'.format\n",
    "\n",
    "import warnings\n",
    "warnings.filterwarnings(action=\"ignore\")"
   ]
  },
  {
   "cell_type": "code",
   "execution_count": 2,
   "metadata": {
    "scrolled": true
   },
   "outputs": [
    {
     "data": {
      "text/html": [
       "<div>\n",
       "<style scoped>\n",
       "    .dataframe tbody tr th:only-of-type {\n",
       "        vertical-align: middle;\n",
       "    }\n",
       "\n",
       "    .dataframe tbody tr th {\n",
       "        vertical-align: top;\n",
       "    }\n",
       "\n",
       "    .dataframe thead th {\n",
       "        text-align: right;\n",
       "    }\n",
       "</style>\n",
       "<table border=\"1\" class=\"dataframe\">\n",
       "  <thead>\n",
       "    <tr style=\"text-align: right;\">\n",
       "      <th></th>\n",
       "      <th>MSSubClass</th>\n",
       "      <th>MSZoning</th>\n",
       "      <th>LotFrontage</th>\n",
       "      <th>LotArea</th>\n",
       "      <th>Street</th>\n",
       "      <th>Alley</th>\n",
       "      <th>LotShape</th>\n",
       "      <th>LandContour</th>\n",
       "      <th>Utilities</th>\n",
       "      <th>LotConfig</th>\n",
       "      <th>...</th>\n",
       "      <th>PoolArea</th>\n",
       "      <th>PoolQC</th>\n",
       "      <th>Fence</th>\n",
       "      <th>MiscFeature</th>\n",
       "      <th>MiscVal</th>\n",
       "      <th>MoSold</th>\n",
       "      <th>YrSold</th>\n",
       "      <th>SaleType</th>\n",
       "      <th>SaleCondition</th>\n",
       "      <th>SalePrice</th>\n",
       "    </tr>\n",
       "    <tr>\n",
       "      <th>Id</th>\n",
       "      <th></th>\n",
       "      <th></th>\n",
       "      <th></th>\n",
       "      <th></th>\n",
       "      <th></th>\n",
       "      <th></th>\n",
       "      <th></th>\n",
       "      <th></th>\n",
       "      <th></th>\n",
       "      <th></th>\n",
       "      <th></th>\n",
       "      <th></th>\n",
       "      <th></th>\n",
       "      <th></th>\n",
       "      <th></th>\n",
       "      <th></th>\n",
       "      <th></th>\n",
       "      <th></th>\n",
       "      <th></th>\n",
       "      <th></th>\n",
       "      <th></th>\n",
       "    </tr>\n",
       "  </thead>\n",
       "  <tbody>\n",
       "    <tr>\n",
       "      <td>1459</td>\n",
       "      <td>20</td>\n",
       "      <td>RL</td>\n",
       "      <td>68.000</td>\n",
       "      <td>9717</td>\n",
       "      <td>Pave</td>\n",
       "      <td>NaN</td>\n",
       "      <td>Reg</td>\n",
       "      <td>Lvl</td>\n",
       "      <td>AllPub</td>\n",
       "      <td>Inside</td>\n",
       "      <td>...</td>\n",
       "      <td>0</td>\n",
       "      <td>NaN</td>\n",
       "      <td>NaN</td>\n",
       "      <td>NaN</td>\n",
       "      <td>0</td>\n",
       "      <td>4</td>\n",
       "      <td>2010</td>\n",
       "      <td>WD</td>\n",
       "      <td>Normal</td>\n",
       "      <td>142125</td>\n",
       "    </tr>\n",
       "    <tr>\n",
       "      <td>1460</td>\n",
       "      <td>20</td>\n",
       "      <td>RL</td>\n",
       "      <td>75.000</td>\n",
       "      <td>9937</td>\n",
       "      <td>Pave</td>\n",
       "      <td>NaN</td>\n",
       "      <td>Reg</td>\n",
       "      <td>Lvl</td>\n",
       "      <td>AllPub</td>\n",
       "      <td>Inside</td>\n",
       "      <td>...</td>\n",
       "      <td>0</td>\n",
       "      <td>NaN</td>\n",
       "      <td>NaN</td>\n",
       "      <td>NaN</td>\n",
       "      <td>0</td>\n",
       "      <td>6</td>\n",
       "      <td>2008</td>\n",
       "      <td>WD</td>\n",
       "      <td>Normal</td>\n",
       "      <td>147500</td>\n",
       "    </tr>\n",
       "  </tbody>\n",
       "</table>\n",
       "<p>2 rows × 80 columns</p>\n",
       "</div>"
      ],
      "text/plain": [
       "      MSSubClass MSZoning  LotFrontage  LotArea Street Alley LotShape  \\\n",
       "Id                                                                      \n",
       "1459          20       RL       68.000     9717   Pave   NaN      Reg   \n",
       "1460          20       RL       75.000     9937   Pave   NaN      Reg   \n",
       "\n",
       "     LandContour Utilities LotConfig  ... PoolArea PoolQC Fence MiscFeature  \\\n",
       "Id                                    ...                                     \n",
       "1459         Lvl    AllPub    Inside  ...        0    NaN   NaN         NaN   \n",
       "1460         Lvl    AllPub    Inside  ...        0    NaN   NaN         NaN   \n",
       "\n",
       "     MiscVal MoSold  YrSold  SaleType  SaleCondition  SalePrice  \n",
       "Id                                                               \n",
       "1459       0      4    2010        WD         Normal     142125  \n",
       "1460       0      6    2008        WD         Normal     147500  \n",
       "\n",
       "[2 rows x 80 columns]"
      ]
     },
     "execution_count": 2,
     "metadata": {},
     "output_type": "execute_result"
    }
   ],
   "source": [
    "prices = pd.read_csv('dataset/house_prices.csv', index_col=0)\n",
    "prices.tail(2)"
   ]
  },
  {
   "cell_type": "markdown",
   "metadata": {},
   "source": [
    "Verilerinizi eğitim ve test kümelerine ayırın.\n",
    "\n",
    "Modelinizi eğitim kümesinden önceki derste olduğu gibi oluşturun. Modelinizin uygunluğunu değerlendirin.\n",
    "\n",
    "Test kümesindeki ev fiyatlarını tahmin edin ve bu derste belirttiğimiz metrikleri kullanarak modelinizin performansını değerlendirin.\n",
    "\n",
    "Modelinizin performansı tatmin edici mi? Açıklayın.\n",
    "\n",
    "Bazı değişkenleri ekleyerek veya çıkararak modelinizi tahmin performansı açısından geliştirmeye çalışın."
   ]
  },
  {
   "cell_type": "code",
   "execution_count": 3,
   "metadata": {
    "scrolled": true
   },
   "outputs": [],
   "source": [
    "high=prices.corr().SalePrice.abs().sort_values(ascending=False).index[0:11]"
   ]
  },
  {
   "cell_type": "code",
   "execution_count": 4,
   "metadata": {},
   "outputs": [],
   "source": [
    "Y = prices['SalePrice']\n",
    "X = prices[['OverallQual', 'GrLivArea', 'GarageCars', 'GarageArea',\n",
    "       'TotalBsmtSF', '1stFlrSF', 'FullBath', 'TotRmsAbvGrd', 'YearBuilt',\n",
    "       'YearRemodAdd']]\n"
   ]
  },
  {
   "cell_type": "code",
   "execution_count": 5,
   "metadata": {},
   "outputs": [
    {
     "name": "stdout",
     "output_type": "stream",
     "text": [
      "Eğitim kümesindeki gözlem sayısı : 1168\n",
      "Test kümesindeki gözlem sayısı   : 292\n"
     ]
    }
   ],
   "source": [
    "X_train, X_test, y_train, y_test = train_test_split(X, Y, test_size = 0.2, random_state = 465)\n",
    "\n",
    "print(\"Eğitim kümesindeki gözlem sayısı : {}\".format(X_train.shape[0]))\n",
    "print(\"Test kümesindeki gözlem sayısı   : {}\".format(X_test.shape[0]))"
   ]
  },
  {
   "cell_type": "code",
   "execution_count": 6,
   "metadata": {},
   "outputs": [
    {
     "data": {
      "text/html": [
       "<table class=\"simpletable\">\n",
       "<caption>OLS Regression Results</caption>\n",
       "<tr>\n",
       "  <th>Dep. Variable:</th>        <td>SalePrice</td>    <th>  R-squared:         </th> <td>   0.772</td> \n",
       "</tr>\n",
       "<tr>\n",
       "  <th>Model:</th>                   <td>OLS</td>       <th>  Adj. R-squared:    </th> <td>   0.770</td> \n",
       "</tr>\n",
       "<tr>\n",
       "  <th>Method:</th>             <td>Least Squares</td>  <th>  F-statistic:       </th> <td>   390.9</td> \n",
       "</tr>\n",
       "<tr>\n",
       "  <th>Date:</th>             <td>Fri, 24 Jan 2020</td> <th>  Prob (F-statistic):</th>  <td>  0.00</td>  \n",
       "</tr>\n",
       "<tr>\n",
       "  <th>Time:</th>                 <td>21:41:00</td>     <th>  Log-Likelihood:    </th> <td> -13950.</td> \n",
       "</tr>\n",
       "<tr>\n",
       "  <th>No. Observations:</th>      <td>  1168</td>      <th>  AIC:               </th> <td>2.792e+04</td>\n",
       "</tr>\n",
       "<tr>\n",
       "  <th>Df Residuals:</th>          <td>  1157</td>      <th>  BIC:               </th> <td>2.798e+04</td>\n",
       "</tr>\n",
       "<tr>\n",
       "  <th>Df Model:</th>              <td>    10</td>      <th>                     </th>     <td> </td>    \n",
       "</tr>\n",
       "<tr>\n",
       "  <th>Covariance Type:</th>      <td>nonrobust</td>    <th>                     </th>     <td> </td>    \n",
       "</tr>\n",
       "</table>\n",
       "<table class=\"simpletable\">\n",
       "<tr>\n",
       "        <td></td>          <th>coef</th>     <th>std err</th>      <th>t</th>      <th>P>|t|</th>  <th>[0.025</th>    <th>0.975]</th>  \n",
       "</tr>\n",
       "<tr>\n",
       "  <th>const</th>        <td>-1.105e+06</td> <td> 1.44e+05</td> <td>   -7.671</td> <td> 0.000</td> <td>-1.39e+06</td> <td>-8.22e+05</td>\n",
       "</tr>\n",
       "<tr>\n",
       "  <th>OverallQual</th>  <td> 1.984e+04</td> <td> 1340.584</td> <td>   14.797</td> <td> 0.000</td> <td> 1.72e+04</td> <td> 2.25e+04</td>\n",
       "</tr>\n",
       "<tr>\n",
       "  <th>GrLivArea</th>    <td>   45.0594</td> <td>    4.706</td> <td>    9.575</td> <td> 0.000</td> <td>   35.826</td> <td>   54.293</td>\n",
       "</tr>\n",
       "<tr>\n",
       "  <th>GarageCars</th>   <td> 1.189e+04</td> <td> 3450.974</td> <td>    3.445</td> <td> 0.001</td> <td> 5118.729</td> <td> 1.87e+04</td>\n",
       "</tr>\n",
       "<tr>\n",
       "  <th>GarageArea</th>   <td>   17.1388</td> <td>   11.590</td> <td>    1.479</td> <td> 0.139</td> <td>   -5.601</td> <td>   39.878</td>\n",
       "</tr>\n",
       "<tr>\n",
       "  <th>TotalBsmtSF</th>  <td>   13.7012</td> <td>    4.649</td> <td>    2.947</td> <td> 0.003</td> <td>    4.580</td> <td>   22.822</td>\n",
       "</tr>\n",
       "<tr>\n",
       "  <th>1stFlrSF</th>     <td>   14.2736</td> <td>    5.357</td> <td>    2.665</td> <td> 0.008</td> <td>    3.764</td> <td>   24.783</td>\n",
       "</tr>\n",
       "<tr>\n",
       "  <th>FullBath</th>     <td>-4869.7054</td> <td> 2968.844</td> <td>   -1.640</td> <td> 0.101</td> <td>-1.07e+04</td> <td>  955.215</td>\n",
       "</tr>\n",
       "<tr>\n",
       "  <th>TotRmsAbvGrd</th> <td> 1643.7793</td> <td> 1250.209</td> <td>    1.315</td> <td> 0.189</td> <td> -809.151</td> <td> 4096.710</td>\n",
       "</tr>\n",
       "<tr>\n",
       "  <th>YearBuilt</th>    <td>  275.8121</td> <td>   55.419</td> <td>    4.977</td> <td> 0.000</td> <td>  167.079</td> <td>  384.545</td>\n",
       "</tr>\n",
       "<tr>\n",
       "  <th>YearRemodAdd</th> <td>  246.0751</td> <td>   70.866</td> <td>    3.472</td> <td> 0.001</td> <td>  107.035</td> <td>  385.115</td>\n",
       "</tr>\n",
       "</table>\n",
       "<table class=\"simpletable\">\n",
       "<tr>\n",
       "  <th>Omnibus:</th>       <td>395.722</td> <th>  Durbin-Watson:     </th> <td>   1.918</td> \n",
       "</tr>\n",
       "<tr>\n",
       "  <th>Prob(Omnibus):</th> <td> 0.000</td>  <th>  Jarque-Bera (JB):  </th> <td>39733.113</td>\n",
       "</tr>\n",
       "<tr>\n",
       "  <th>Skew:</th>          <td>-0.537</td>  <th>  Prob(JB):          </th> <td>    0.00</td> \n",
       "</tr>\n",
       "<tr>\n",
       "  <th>Kurtosis:</th>      <td>31.553</td>  <th>  Cond. No.          </th> <td>4.75e+05</td> \n",
       "</tr>\n",
       "</table><br/><br/>Warnings:<br/>[1] Standard Errors assume that the covariance matrix of the errors is correctly specified.<br/>[2] The condition number is large, 4.75e+05. This might indicate that there are<br/>strong multicollinearity or other numerical problems."
      ],
      "text/plain": [
       "<class 'statsmodels.iolib.summary.Summary'>\n",
       "\"\"\"\n",
       "                            OLS Regression Results                            \n",
       "==============================================================================\n",
       "Dep. Variable:              SalePrice   R-squared:                       0.772\n",
       "Model:                            OLS   Adj. R-squared:                  0.770\n",
       "Method:                 Least Squares   F-statistic:                     390.9\n",
       "Date:                Fri, 24 Jan 2020   Prob (F-statistic):               0.00\n",
       "Time:                        21:41:00   Log-Likelihood:                -13950.\n",
       "No. Observations:                1168   AIC:                         2.792e+04\n",
       "Df Residuals:                    1157   BIC:                         2.798e+04\n",
       "Df Model:                          10                                         \n",
       "Covariance Type:            nonrobust                                         \n",
       "================================================================================\n",
       "                   coef    std err          t      P>|t|      [0.025      0.975]\n",
       "--------------------------------------------------------------------------------\n",
       "const        -1.105e+06   1.44e+05     -7.671      0.000   -1.39e+06   -8.22e+05\n",
       "OverallQual   1.984e+04   1340.584     14.797      0.000    1.72e+04    2.25e+04\n",
       "GrLivArea       45.0594      4.706      9.575      0.000      35.826      54.293\n",
       "GarageCars    1.189e+04   3450.974      3.445      0.001    5118.729    1.87e+04\n",
       "GarageArea      17.1388     11.590      1.479      0.139      -5.601      39.878\n",
       "TotalBsmtSF     13.7012      4.649      2.947      0.003       4.580      22.822\n",
       "1stFlrSF        14.2736      5.357      2.665      0.008       3.764      24.783\n",
       "FullBath     -4869.7054   2968.844     -1.640      0.101   -1.07e+04     955.215\n",
       "TotRmsAbvGrd  1643.7793   1250.209      1.315      0.189    -809.151    4096.710\n",
       "YearBuilt      275.8121     55.419      4.977      0.000     167.079     384.545\n",
       "YearRemodAdd   246.0751     70.866      3.472      0.001     107.035     385.115\n",
       "==============================================================================\n",
       "Omnibus:                      395.722   Durbin-Watson:                   1.918\n",
       "Prob(Omnibus):                  0.000   Jarque-Bera (JB):            39733.113\n",
       "Skew:                          -0.537   Prob(JB):                         0.00\n",
       "Kurtosis:                      31.553   Cond. No.                     4.75e+05\n",
       "==============================================================================\n",
       "\n",
       "Warnings:\n",
       "[1] Standard Errors assume that the covariance matrix of the errors is correctly specified.\n",
       "[2] The condition number is large, 4.75e+05. This might indicate that there are\n",
       "strong multicollinearity or other numerical problems.\n",
       "\"\"\""
      ]
     },
     "execution_count": 6,
     "metadata": {},
     "output_type": "execute_result"
    }
   ],
   "source": [
    "X_train = sm.add_constant(X_train)\n",
    "\n",
    "sonuclar = sm.OLS(y_train, X_train).fit()\n",
    "\n",
    "sonuclar.summary()"
   ]
  },
  {
   "cell_type": "code",
   "execution_count": 7,
   "metadata": {},
   "outputs": [
    {
     "data": {
      "image/png": "[encoded data removed]",
      "text/plain": [
       "<Figure size 600x400 with 1 Axes>"
      ]
     },
     "metadata": {
      "needs_background": "light"
     },
     "output_type": "display_data"
    },
    {
     "name": "stdout",
     "output_type": "stream",
     "text": [
      "Ortalama Mutlak Hata (MAE)        : 26093.135377629398\n",
      "Ortalama Kare Hata (MSE)          : 1649869554.015813\n",
      "Kök Ortalama Kare Hata (RMSE)     : 40618.58631237445\n",
      "Ortalama Mutlak Yüzde Hata (MAPE) : 15.166068176963106\n"
     ]
    }
   ],
   "source": [
    "X_test = sm.add_constant(X_test)\n",
    "\n",
    "y_preds = sonuclar.predict(X_test)\n",
    "\n",
    "\n",
    "baslik_font = {'family': 'arial','color':  'darkred','weight': 'bold','size': 15 }\n",
    "eksen_font = {'family': 'arial','color':  'darkblue','weight': 'bold','size': 10 }\n",
    "plt.figure(dpi = 100)\n",
    "\n",
    "plt.scatter(y_test, y_preds)\n",
    "plt.plot(y_test, y_test, color=\"red\")\n",
    "plt.xlabel(\"Gerçek Değerler\", fontdict=eksen_font)\n",
    "plt.ylabel(\"Tahmin edilen Değerler\", fontdict=eksen_font)\n",
    "plt.title(\"Ücretler: Gerçek ve tahmin edilen değerler\", fontdict=baslik_font)\n",
    "plt.show()\n",
    "\n",
    "print(\"Ortalama Mutlak Hata (MAE)        : {}\".format(mean_absolute_error(y_test, y_preds)))\n",
    "print(\"Ortalama Kare Hata (MSE)          : {}\".format(mse(y_test, y_preds)))\n",
    "print(\"Kök Ortalama Kare Hata (RMSE)     : {}\".format(rmse(y_test, y_preds)))\n",
    "print(\"Ortalama Mutlak Yüzde Hata (MAPE) : {}\".format(np.mean(np.abs((y_test - y_preds) / y_test)) * 100))\n"
   ]
  },
  {
   "cell_type": "code",
   "execution_count": 8,
   "metadata": {},
   "outputs": [],
   "source": [
    "Y = prices['SalePrice']\n",
    "prices['Garage']=prices['GarageCars']*prices['GarageArea']\n",
    "X = prices[['OverallQual', 'GrLivArea', 'Garage',\n",
    "       'TotalBsmtSF', '1stFlrSF', 'FullBath', 'YearBuilt',\n",
    "       'YearRemodAdd']]"
   ]
  },
  {
   "cell_type": "code",
   "execution_count": 9,
   "metadata": {},
   "outputs": [
    {
     "name": "stdout",
     "output_type": "stream",
     "text": [
      "Eğitim kümesindeki gözlem sayısı : 1168\n",
      "Test kümesindeki gözlem sayısı   : 292\n"
     ]
    }
   ],
   "source": [
    "X_train, X_test, y_train, y_test = train_test_split(X, Y, test_size = 0.2, random_state = 465)\n",
    "\n",
    "print(\"Eğitim kümesindeki gözlem sayısı : {}\".format(X_train.shape[0]))\n",
    "print(\"Test kümesindeki gözlem sayısı   : {}\".format(X_test.shape[0]))"
   ]
  },
  {
   "cell_type": "code",
   "execution_count": 10,
   "metadata": {},
   "outputs": [
    {
     "data": {
      "text/html": [
       "<table class=\"simpletable\">\n",
       "<caption>OLS Regression Results</caption>\n",
       "<tr>\n",
       "  <th>Dep. Variable:</th>        <td>SalePrice</td>    <th>  R-squared:         </th> <td>   0.779</td> \n",
       "</tr>\n",
       "<tr>\n",
       "  <th>Model:</th>                   <td>OLS</td>       <th>  Adj. R-squared:    </th> <td>   0.777</td> \n",
       "</tr>\n",
       "<tr>\n",
       "  <th>Method:</th>             <td>Least Squares</td>  <th>  F-statistic:       </th> <td>   510.7</td> \n",
       "</tr>\n",
       "<tr>\n",
       "  <th>Date:</th>             <td>Fri, 24 Jan 2020</td> <th>  Prob (F-statistic):</th>  <td>  0.00</td>  \n",
       "</tr>\n",
       "<tr>\n",
       "  <th>Time:</th>                 <td>21:41:00</td>     <th>  Log-Likelihood:    </th> <td> -13931.</td> \n",
       "</tr>\n",
       "<tr>\n",
       "  <th>No. Observations:</th>      <td>  1168</td>      <th>  AIC:               </th> <td>2.788e+04</td>\n",
       "</tr>\n",
       "<tr>\n",
       "  <th>Df Residuals:</th>          <td>  1159</td>      <th>  BIC:               </th> <td>2.793e+04</td>\n",
       "</tr>\n",
       "<tr>\n",
       "  <th>Df Model:</th>              <td>     8</td>      <th>                     </th>     <td> </td>    \n",
       "</tr>\n",
       "<tr>\n",
       "  <th>Covariance Type:</th>      <td>nonrobust</td>    <th>                     </th>     <td> </td>    \n",
       "</tr>\n",
       "</table>\n",
       "<table class=\"simpletable\">\n",
       "<tr>\n",
       "        <td></td>          <th>coef</th>     <th>std err</th>      <th>t</th>      <th>P>|t|</th>  <th>[0.025</th>    <th>0.975]</th>  \n",
       "</tr>\n",
       "<tr>\n",
       "  <th>const</th>        <td>-1.038e+06</td> <td>  1.4e+05</td> <td>   -7.396</td> <td> 0.000</td> <td>-1.31e+06</td> <td>-7.63e+05</td>\n",
       "</tr>\n",
       "<tr>\n",
       "  <th>OverallQual</th>  <td> 1.959e+04</td> <td> 1304.768</td> <td>   15.014</td> <td> 0.000</td> <td>  1.7e+04</td> <td> 2.21e+04</td>\n",
       "</tr>\n",
       "<tr>\n",
       "  <th>GrLivArea</th>    <td>   46.9711</td> <td>    3.389</td> <td>   13.862</td> <td> 0.000</td> <td>   40.323</td> <td>   53.620</td>\n",
       "</tr>\n",
       "<tr>\n",
       "  <th>Garage</th>       <td>   21.3250</td> <td>    2.055</td> <td>   10.379</td> <td> 0.000</td> <td>   17.294</td> <td>   25.356</td>\n",
       "</tr>\n",
       "<tr>\n",
       "  <th>TotalBsmtSF</th>  <td>   10.5157</td> <td>    4.540</td> <td>    2.316</td> <td> 0.021</td> <td>    1.609</td> <td>   19.423</td>\n",
       "</tr>\n",
       "<tr>\n",
       "  <th>1stFlrSF</th>     <td>   13.5326</td> <td>    5.252</td> <td>    2.577</td> <td> 0.010</td> <td>    3.228</td> <td>   23.837</td>\n",
       "</tr>\n",
       "<tr>\n",
       "  <th>FullBath</th>     <td>-3709.9081</td> <td> 2875.624</td> <td>   -1.290</td> <td> 0.197</td> <td>-9351.919</td> <td> 1932.103</td>\n",
       "</tr>\n",
       "<tr>\n",
       "  <th>YearBuilt</th>    <td>  272.8638</td> <td>   53.512</td> <td>    5.099</td> <td> 0.000</td> <td>  167.874</td> <td>  377.854</td>\n",
       "</tr>\n",
       "<tr>\n",
       "  <th>YearRemodAdd</th> <td>  225.5641</td> <td>   69.681</td> <td>    3.237</td> <td> 0.001</td> <td>   88.848</td> <td>  362.280</td>\n",
       "</tr>\n",
       "</table>\n",
       "<table class=\"simpletable\">\n",
       "<tr>\n",
       "  <th>Omnibus:</th>       <td>439.921</td> <th>  Durbin-Watson:     </th> <td>   1.908</td> \n",
       "</tr>\n",
       "<tr>\n",
       "  <th>Prob(Omnibus):</th> <td> 0.000</td>  <th>  Jarque-Bera (JB):  </th> <td>43967.235</td>\n",
       "</tr>\n",
       "<tr>\n",
       "  <th>Skew:</th>          <td>-0.746</td>  <th>  Prob(JB):          </th> <td>    0.00</td> \n",
       "</tr>\n",
       "<tr>\n",
       "  <th>Kurtosis:</th>      <td>33.020</td>  <th>  Cond. No.          </th> <td>4.86e+05</td> \n",
       "</tr>\n",
       "</table><br/><br/>Warnings:<br/>[1] Standard Errors assume that the covariance matrix of the errors is correctly specified.<br/>[2] The condition number is large, 4.86e+05. This might indicate that there are<br/>strong multicollinearity or other numerical problems."
      ],
      "text/plain": [
       "<class 'statsmodels.iolib.summary.Summary'>\n",
       "\"\"\"\n",
       "                            OLS Regression Results                            \n",
       "==============================================================================\n",
       "Dep. Variable:              SalePrice   R-squared:                       0.779\n",
       "Model:                            OLS   Adj. R-squared:                  0.777\n",
       "Method:                 Least Squares   F-statistic:                     510.7\n",
       "Date:                Fri, 24 Jan 2020   Prob (F-statistic):               0.00\n",
       "Time:                        21:41:00   Log-Likelihood:                -13931.\n",
       "No. Observations:                1168   AIC:                         2.788e+04\n",
       "Df Residuals:                    1159   BIC:                         2.793e+04\n",
       "Df Model:                           8                                         \n",
       "Covariance Type:            nonrobust                                         \n",
       "================================================================================\n",
       "                   coef    std err          t      P>|t|      [0.025      0.975]\n",
       "--------------------------------------------------------------------------------\n",
       "const        -1.038e+06    1.4e+05     -7.396      0.000   -1.31e+06   -7.63e+05\n",
       "OverallQual   1.959e+04   1304.768     15.014      0.000     1.7e+04    2.21e+04\n",
       "GrLivArea       46.9711      3.389     13.862      0.000      40.323      53.620\n",
       "Garage          21.3250      2.055     10.379      0.000      17.294      25.356\n",
       "TotalBsmtSF     10.5157      4.540      2.316      0.021       1.609      19.423\n",
       "1stFlrSF        13.5326      5.252      2.577      0.010       3.228      23.837\n",
       "FullBath     -3709.9081   2875.624     -1.290      0.197   -9351.919    1932.103\n",
       "YearBuilt      272.8638     53.512      5.099      0.000     167.874     377.854\n",
       "YearRemodAdd   225.5641     69.681      3.237      0.001      88.848     362.280\n",
       "==============================================================================\n",
       "Omnibus:                      439.921   Durbin-Watson:                   1.908\n",
       "Prob(Omnibus):                  0.000   Jarque-Bera (JB):            43967.235\n",
       "Skew:                          -0.746   Prob(JB):                         0.00\n",
       "Kurtosis:                      33.020   Cond. No.                     4.86e+05\n",
       "==============================================================================\n",
       "\n",
       "Warnings:\n",
       "[1] Standard Errors assume that the covariance matrix of the errors is correctly specified.\n",
       "[2] The condition number is large, 4.86e+05. This might indicate that there are\n",
       "strong multicollinearity or other numerical problems.\n",
       "\"\"\""
      ]
     },
     "execution_count": 10,
     "metadata": {},
     "output_type": "execute_result"
    }
   ],
   "source": [
    "X_train = sm.add_constant(X_train)\n",
    "\n",
    "sonuclar = sm.OLS(y_train, X_train).fit()\n",
    "\n",
    "sonuclar.summary()"
   ]
  },
  {
   "cell_type": "code",
   "execution_count": 11,
   "metadata": {
    "scrolled": true
   },
   "outputs": [
    {
     "data": {
      "image/png": "[encoded data removed]",
      "text/plain": [
       "<Figure size 600x400 with 1 Axes>"
      ]
     },
     "metadata": {
      "needs_background": "light"
     },
     "output_type": "display_data"
    },
    {
     "name": "stdout",
     "output_type": "stream",
     "text": [
      "Ortalama Mutlak Hata (MSE)        : 25131.0329183034\n",
      "Ortalama Kare Hata (MSE)          : 1601209386.0573678\n",
      "Kök Ortalama Kare Hata (RMSE)     : 40015.11447012701\n",
      "Ortalama Mutlak Yüzde Hata (MAPE) : 14.40355016210596\n"
     ]
    }
   ],
   "source": [
    "X_test = sm.add_constant(X_test)\n",
    "\n",
    "y_preds = sonuclar.predict(X_test)\n",
    "\n",
    "plt.figure(dpi = 100)\n",
    "plt.scatter(y_test, y_preds)\n",
    "plt.plot(y_test, y_test, color=\"red\")\n",
    "plt.xlabel(\"Gerçek Değerler\", fontdict=eksen_font)\n",
    "plt.ylabel(\"Tahmin edilen Değerler\", fontdict=eksen_font)\n",
    "plt.title(\"Ücretler: Gerçek ve tahmin edilen değerler\", fontdict=baslik_font)\n",
    "plt.show()\n",
    "\n",
    "print(\"Ortalama Mutlak Hata (MSE)        : {}\".format(mean_absolute_error(y_test, y_preds)))\n",
    "print(\"Ortalama Kare Hata (MSE)          : {}\".format(mse(y_test, y_preds)))\n",
    "print(\"Kök Ortalama Kare Hata (RMSE)     : {}\".format(rmse(y_test, y_preds)))\n",
    "print(\"Ortalama Mutlak Yüzde Hata (MAPE) : {}\".format(np.mean(np.abs((y_test - y_preds) / y_test)) * 100))"
   ]
  },
  {
   "cell_type": "markdown",
   "metadata": {},
   "source": [
    "### 1. MODEL DEĞERLERİ\n",
    "Ortalama Mutlak Hata (MAE)        : 26093.135377629398\n",
    "\n",
    "Ortalama Kare Hata (MSE)          : 1649869554.015813\n",
    "\n",
    "Kök Ortalama Kare Hata (RMSE)     : 40618.58631237445\n",
    "\n",
    "Ortalama Mutlak Yüzde Hata (MAPE) : 15.166068176963106\n",
    "\n",
    "### 2.MODEL DEĞERLERİ\n",
    "\n",
    "Ortalama Mutlak Hata (MSE)        : 25131.0329183034\n",
    "\n",
    "Ortalama Kare Hata (MSE)          : 1601209386.0573678\n",
    "\n",
    "Kök Ortalama Kare Hata (RMSE)     : 40015.11447012701\n",
    "\n",
    "Ortalama Mutlak Yüzde Hata (MAPE) : 14.40355016210596"
   ]
  },
  {
   "cell_type": "markdown",
   "metadata": {},
   "source": [
    "İkinci modelin test kümesi performansı, kullandığımız dört metriğin tümüne göre bir öncekinden daha iyidir! Önceki modele kıyasla, bu ikinci model hedefin yüksek değerlerini daha iyi tahmin ediyor olacağını düşünüyoruz. "
   ]
  },
  {
   "cell_type": "markdown",
   "metadata": {},
   "source": [
    "WORK FİNİSHED."
   ]
  }
 ],
 "metadata": {
  "kernelspec": {
   "display_name": "Python 3",
   "language": "python",
   "name": "python3"
  },
  "language_info": {
   "codemirror_mode": {
    "name": "ipython",
    "version": 3
   },
   "file_extension": ".py",
   "mimetype": "text/x-python",
   "name": "python",
   "nbconvert_exporter": "python",
   "pygments_lexer": "ipython3",
   "version": "3.7.4"
  }
 },
 "nbformat": 4,
 "nbformat_minor": 2
}
