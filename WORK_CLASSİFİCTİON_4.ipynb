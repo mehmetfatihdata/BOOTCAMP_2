{
 "cells": [
  {
   "cell_type": "markdown",
   "metadata": {},
   "source": [
    "## mehmetfatihdata"
   ]
  },
  {
   "cell_type": "code",
   "execution_count": 1,
   "metadata": {},
   "outputs": [],
   "source": [
    "import pandas as pd\n",
    "import seaborn as sns\n",
    "import numpy as np\n",
    "import warnings\n",
    "warnings.filterwarnings('ignore')"
   ]
  },
  {
   "cell_type": "code",
   "execution_count": 2,
   "metadata": {
    "scrolled": true
   },
   "outputs": [
    {
     "data": {
      "text/html": [
       "<div>\n",
       "<style scoped>\n",
       "    .dataframe tbody tr th:only-of-type {\n",
       "        vertical-align: middle;\n",
       "    }\n",
       "\n",
       "    .dataframe tbody tr th {\n",
       "        vertical-align: top;\n",
       "    }\n",
       "\n",
       "    .dataframe thead th {\n",
       "        text-align: right;\n",
       "    }\n",
       "</style>\n",
       "<table border=\"1\" class=\"dataframe\">\n",
       "  <thead>\n",
       "    <tr style=\"text-align: right;\">\n",
       "      <th></th>\n",
       "      <th>age</th>\n",
       "      <th>sex</th>\n",
       "      <th>cp</th>\n",
       "      <th>trestbps</th>\n",
       "      <th>chol</th>\n",
       "      <th>fbs</th>\n",
       "      <th>restecg</th>\n",
       "      <th>thalach</th>\n",
       "      <th>exang</th>\n",
       "      <th>oldpeak</th>\n",
       "      <th>slope</th>\n",
       "      <th>ca</th>\n",
       "      <th>thal</th>\n",
       "      <th>result</th>\n",
       "    </tr>\n",
       "  </thead>\n",
       "  <tbody>\n",
       "    <tr>\n",
       "      <td>0</td>\n",
       "      <td>63.0</td>\n",
       "      <td>1.0</td>\n",
       "      <td>1.0</td>\n",
       "      <td>145.0</td>\n",
       "      <td>233.0</td>\n",
       "      <td>1.0</td>\n",
       "      <td>2.0</td>\n",
       "      <td>150.0</td>\n",
       "      <td>0.0</td>\n",
       "      <td>2.3</td>\n",
       "      <td>3.0</td>\n",
       "      <td>0.0</td>\n",
       "      <td>6.0</td>\n",
       "      <td>negative</td>\n",
       "    </tr>\n",
       "    <tr>\n",
       "      <td>1</td>\n",
       "      <td>37.0</td>\n",
       "      <td>1.0</td>\n",
       "      <td>3.0</td>\n",
       "      <td>130.0</td>\n",
       "      <td>250.0</td>\n",
       "      <td>0.0</td>\n",
       "      <td>0.0</td>\n",
       "      <td>187.0</td>\n",
       "      <td>0.0</td>\n",
       "      <td>3.5</td>\n",
       "      <td>3.0</td>\n",
       "      <td>0.0</td>\n",
       "      <td>3.0</td>\n",
       "      <td>negative</td>\n",
       "    </tr>\n",
       "    <tr>\n",
       "      <td>2</td>\n",
       "      <td>41.0</td>\n",
       "      <td>0.0</td>\n",
       "      <td>2.0</td>\n",
       "      <td>130.0</td>\n",
       "      <td>204.0</td>\n",
       "      <td>0.0</td>\n",
       "      <td>2.0</td>\n",
       "      <td>172.0</td>\n",
       "      <td>0.0</td>\n",
       "      <td>1.4</td>\n",
       "      <td>1.0</td>\n",
       "      <td>0.0</td>\n",
       "      <td>3.0</td>\n",
       "      <td>negative</td>\n",
       "    </tr>\n",
       "    <tr>\n",
       "      <td>3</td>\n",
       "      <td>56.0</td>\n",
       "      <td>1.0</td>\n",
       "      <td>2.0</td>\n",
       "      <td>120.0</td>\n",
       "      <td>236.0</td>\n",
       "      <td>0.0</td>\n",
       "      <td>0.0</td>\n",
       "      <td>178.0</td>\n",
       "      <td>0.0</td>\n",
       "      <td>0.8</td>\n",
       "      <td>1.0</td>\n",
       "      <td>0.0</td>\n",
       "      <td>3.0</td>\n",
       "      <td>negative</td>\n",
       "    </tr>\n",
       "    <tr>\n",
       "      <td>4</td>\n",
       "      <td>57.0</td>\n",
       "      <td>0.0</td>\n",
       "      <td>4.0</td>\n",
       "      <td>120.0</td>\n",
       "      <td>354.0</td>\n",
       "      <td>0.0</td>\n",
       "      <td>0.0</td>\n",
       "      <td>163.0</td>\n",
       "      <td>1.0</td>\n",
       "      <td>0.6</td>\n",
       "      <td>1.0</td>\n",
       "      <td>0.0</td>\n",
       "      <td>3.0</td>\n",
       "      <td>negative</td>\n",
       "    </tr>\n",
       "  </tbody>\n",
       "</table>\n",
       "</div>"
      ],
      "text/plain": [
       "    age  sex   cp  trestbps   chol  fbs  restecg  thalach  exang  oldpeak  \\\n",
       "0  63.0  1.0  1.0     145.0  233.0  1.0      2.0    150.0    0.0      2.3   \n",
       "1  37.0  1.0  3.0     130.0  250.0  0.0      0.0    187.0    0.0      3.5   \n",
       "2  41.0  0.0  2.0     130.0  204.0  0.0      2.0    172.0    0.0      1.4   \n",
       "3  56.0  1.0  2.0     120.0  236.0  0.0      0.0    178.0    0.0      0.8   \n",
       "4  57.0  0.0  4.0     120.0  354.0  0.0      0.0    163.0    1.0      0.6   \n",
       "\n",
       "   slope   ca thal    result  \n",
       "0    3.0  0.0  6.0  negative  \n",
       "1    3.0  0.0  3.0  negative  \n",
       "2    1.0  0.0  3.0  negative  \n",
       "3    1.0  0.0  3.0  negative  \n",
       "4    1.0  0.0  3.0  negative  "
      ]
     },
     "execution_count": 2,
     "metadata": {},
     "output_type": "execute_result"
    }
   ],
   "source": [
    "df = pd.read_csv('dataset/heart.csv')\n",
    "df.head()"
   ]
  },
  {
   "cell_type": "code",
   "execution_count": 3,
   "metadata": {
    "scrolled": false
   },
   "outputs": [
    {
     "data": {
      "text/html": [
       "<div>\n",
       "<style scoped>\n",
       "    .dataframe tbody tr th:only-of-type {\n",
       "        vertical-align: middle;\n",
       "    }\n",
       "\n",
       "    .dataframe tbody tr th {\n",
       "        vertical-align: top;\n",
       "    }\n",
       "\n",
       "    .dataframe thead th {\n",
       "        text-align: right;\n",
       "    }\n",
       "</style>\n",
       "<table border=\"1\" class=\"dataframe\">\n",
       "  <thead>\n",
       "    <tr style=\"text-align: right;\">\n",
       "      <th></th>\n",
       "      <th>age</th>\n",
       "      <th>sex</th>\n",
       "      <th>cp</th>\n",
       "      <th>trestbps</th>\n",
       "      <th>chol</th>\n",
       "      <th>fbs</th>\n",
       "      <th>restecg</th>\n",
       "      <th>thalach</th>\n",
       "      <th>exang</th>\n",
       "      <th>oldpeak</th>\n",
       "      <th>slope</th>\n",
       "      <th>ca</th>\n",
       "      <th>thal</th>\n",
       "      <th>result</th>\n",
       "      <th>results</th>\n",
       "    </tr>\n",
       "  </thead>\n",
       "  <tbody>\n",
       "    <tr>\n",
       "      <td>0</td>\n",
       "      <td>63.0</td>\n",
       "      <td>1.0</td>\n",
       "      <td>1.0</td>\n",
       "      <td>145.0</td>\n",
       "      <td>233.0</td>\n",
       "      <td>1.0</td>\n",
       "      <td>2.0</td>\n",
       "      <td>150.0</td>\n",
       "      <td>0.0</td>\n",
       "      <td>2.3</td>\n",
       "      <td>3.0</td>\n",
       "      <td>0.0</td>\n",
       "      <td>6.0</td>\n",
       "      <td>negative</td>\n",
       "      <td>0</td>\n",
       "    </tr>\n",
       "  </tbody>\n",
       "</table>\n",
       "</div>"
      ],
      "text/plain": [
       "    age  sex   cp  trestbps   chol  fbs  restecg  thalach  exang  oldpeak  \\\n",
       "0  63.0  1.0  1.0     145.0  233.0  1.0      2.0    150.0    0.0      2.3   \n",
       "\n",
       "   slope   ca thal    result  results  \n",
       "0    3.0  0.0  6.0  negative        0  "
      ]
     },
     "execution_count": 3,
     "metadata": {},
     "output_type": "execute_result"
    }
   ],
   "source": [
    "df[\"results\"]=df[\" result\"].replace({'negative':0,'positive':1})\n",
    "df.head(1)"
   ]
  },
  {
   "cell_type": "code",
   "execution_count": 4,
   "metadata": {},
   "outputs": [],
   "source": [
    "df=df.drop(' result', axis=1)"
   ]
  },
  {
   "cell_type": "code",
   "execution_count": 5,
   "metadata": {},
   "outputs": [
    {
     "name": "stdout",
     "output_type": "stream",
     "text": [
      "<class 'pandas.core.frame.DataFrame'>\n",
      "RangeIndex: 177 entries, 0 to 176\n",
      "Data columns (total 14 columns):\n",
      "age         177 non-null float64\n",
      "sex         177 non-null float64\n",
      "cp          177 non-null float64\n",
      "trestbps    177 non-null float64\n",
      "chol        177 non-null float64\n",
      "fbs         177 non-null float64\n",
      "restecg     177 non-null float64\n",
      "thalach     177 non-null float64\n",
      "exang       177 non-null float64\n",
      "oldpeak     177 non-null float64\n",
      "slope       177 non-null float64\n",
      "ca          177 non-null object\n",
      "thal        177 non-null object\n",
      "results     177 non-null int64\n",
      "dtypes: float64(11), int64(1), object(2)\n",
      "memory usage: 19.5+ KB\n"
     ]
    }
   ],
   "source": [
    "df.info()"
   ]
  },
  {
   "cell_type": "code",
   "execution_count": 6,
   "metadata": {
    "scrolled": true
   },
   "outputs": [
    {
     "name": "stdout",
     "output_type": "stream",
     "text": [
      "age sütunundaki benzersiz değerler : [63. 37. 41. 56. 57. 44. 52. 54. 48. 49. 64. 58. 50. 66. 69. 59. 42. 61.\n",
      " 71. 51. 65. 53. 46. 45. 39. 47. 62. 34. 35. 29. 43. 55. 60. 67. 68. 74.\n",
      " 76. 70. 38. 40. 77.]\n",
      "sex sütunundaki benzersiz değerler : [1. 0.]\n",
      "cp sütunundaki benzersiz değerler : [1. 3. 2. 4.]\n",
      "trestbps sütunundaki benzersiz değerler : [145. 130. 120. 140. 172. 110. 150. 135. 160. 105. 125. 142. 155. 104.\n",
      " 138. 128. 108. 134. 115. 118. 100. 124.  94. 122. 112. 102. 152. 101.\n",
      " 132. 148. 129. 180. 136. 126. 106. 156. 170. 178. 146. 165. 114.]\n",
      "chol sütunundaki benzersiz değerler : [233. 250. 204. 236. 354. 192. 294. 263. 199. 239. 275. 266. 211. 283.\n",
      " 219. 340. 226. 234. 243. 302. 212. 175. 417. 197. 198. 177. 273. 213.\n",
      " 304. 232. 269. 360. 308. 245. 208. 321. 325. 235. 257. 216. 256. 231.\n",
      " 141. 252. 201. 260. 182. 303. 265. 309. 203. 183. 222. 220. 209. 258.\n",
      " 227. 261. 221. 205. 240. 318. 298. 564. 277. 214. 248. 255. 207. 223.\n",
      " 288. 160. 394. 315. 246. 244. 195. 196. 254. 126. 313. 262. 215. 193.\n",
      " 271. 268. 267. 210. 295. 306. 178. 242. 180. 228. 253. 342. 157. 168.\n",
      " 247. 264. 186. 270. 149. 278. 206. 225. 230. 407. 289. 166. 174.]\n",
      "fbs sütunundaki benzersiz değerler : [1. 0.]\n",
      "restecg sütunundaki benzersiz değerler : [2. 0. 1.]\n",
      "thalach sütunundaki benzersiz değerler : [150. 187. 172. 178. 163. 148. 153. 173. 162. 160. 139. 171. 144. 158.\n",
      " 114. 151. 161. 179. 137. 157. 123. 152. 168. 140. 188. 125. 170. 165.\n",
      " 142. 180. 182. 156. 115. 149. 146. 175. 185. 174. 159. 130. 132. 143.\n",
      " 147. 154. 202. 186. 166. 164. 184. 122. 169. 138. 111. 131. 133. 155.\n",
      " 167. 192. 121.  96. 126. 105. 181. 116. 190. 145. 194. 128. 124.]\n",
      "exang sütunundaki benzersiz değerler : [0. 1.]\n",
      "oldpeak sütunundaki benzersiz değerler : [2.3 3.5 1.4 0.8 0.6 0.4 1.3 0.  0.5 1.2 0.2 1.8 1.  1.6 2.6 1.5 3.  2.4\n",
      " 0.1 1.9 1.1 2.  0.7 0.3 0.9 4.2 2.5 4.  3.8 3.6 4.4]\n",
      "slope sütunundaki benzersiz değerler : [3. 1. 2.]\n",
      "ca sütunundaki benzersiz değerler : ['0.0' '2.0' '1.0' '3.0' '<null>']\n",
      "thal sütunundaki benzersiz değerler : ['6.0' '3.0' '7.0' '<null>']\n",
      "results sütunundaki benzersiz değerler : [0 1]\n"
     ]
    }
   ],
   "source": [
    "for sutun_adi in df.columns:\n",
    "    print(\"{} sütunundaki benzersiz değerler : {}\".format(sutun_adi, df[sutun_adi].unique()))"
   ]
  },
  {
   "cell_type": "code",
   "execution_count": 7,
   "metadata": {},
   "outputs": [],
   "source": [
    "df[\"ca\"]= df[\"ca\"].replace(\"<null>\", 'Nan' )\n",
    "df[\"thal\"]= df[\"thal\"].replace(\"<null>\", 'Nan' )"
   ]
  },
  {
   "cell_type": "code",
   "execution_count": 8,
   "metadata": {},
   "outputs": [],
   "source": [
    "df['ca'] = df['ca'].astype(float)\n",
    "df['thal'] = df['thal'].astype(float)"
   ]
  },
  {
   "cell_type": "code",
   "execution_count": 9,
   "metadata": {},
   "outputs": [],
   "source": [
    "df.fillna(df.mean(), inplace=True)"
   ]
  },
  {
   "cell_type": "code",
   "execution_count": 10,
   "metadata": {
    "scrolled": true
   },
   "outputs": [],
   "source": [
    "df['ca'] = df['ca'].astype(int)\n",
    "df['thal'] = df['thal'].astype(int)"
   ]
  },
  {
   "cell_type": "code",
   "execution_count": 11,
   "metadata": {},
   "outputs": [
    {
     "data": {
      "text/plain": [
       "age         0\n",
       "sex         0\n",
       "cp          0\n",
       "trestbps    0\n",
       "chol        0\n",
       "fbs         0\n",
       "restecg     0\n",
       "thalach     0\n",
       "exang       0\n",
       "oldpeak     0\n",
       "slope       0\n",
       "ca          0\n",
       "thal        0\n",
       "results     0\n",
       "dtype: int64"
      ]
     },
     "execution_count": 11,
     "metadata": {},
     "output_type": "execute_result"
    }
   ],
   "source": [
    "df.isnull().sum()"
   ]
  },
  {
   "cell_type": "code",
   "execution_count": 12,
   "metadata": {
    "scrolled": false
   },
   "outputs": [
    {
     "name": "stdout",
     "output_type": "stream",
     "text": [
      "<class 'pandas.core.frame.DataFrame'>\n",
      "RangeIndex: 177 entries, 0 to 176\n",
      "Data columns (total 14 columns):\n",
      "age         177 non-null float64\n",
      "sex         177 non-null float64\n",
      "cp          177 non-null float64\n",
      "trestbps    177 non-null float64\n",
      "chol        177 non-null float64\n",
      "fbs         177 non-null float64\n",
      "restecg     177 non-null float64\n",
      "thalach     177 non-null float64\n",
      "exang       177 non-null float64\n",
      "oldpeak     177 non-null float64\n",
      "slope       177 non-null float64\n",
      "ca          177 non-null int32\n",
      "thal        177 non-null int32\n",
      "results     177 non-null int64\n",
      "dtypes: float64(11), int32(2), int64(1)\n",
      "memory usage: 18.1 KB\n"
     ]
    }
   ],
   "source": [
    "df.info()"
   ]
  },
  {
   "cell_type": "code",
   "execution_count": 13,
   "metadata": {
    "scrolled": false
   },
   "outputs": [
    {
     "name": "stdout",
     "output_type": "stream",
     "text": [
      "Kalp Krizi Oranı : %7.34\n",
      "Risk Yok      : %92.66\n"
     ]
    },
    {
     "data": {
      "image/png": "[encoded data removed]",
      "text/plain": [
       "<Figure size 432x288 with 1 Axes>"
      ]
     },
     "metadata": {
      "needs_background": "light"
     },
     "output_type": "display_data"
    }
   ],
   "source": [
    "sns.countplot(df.results)\n",
    "print(\"Kalp Krizi Oranı : %{:.2f}\".format(sum(df.results)/len(df.results)*100))\n",
    "print(\"Risk Yok      : %{:.2f}\".format((len(df.results)-sum(df.results))/len(df.results)*100))"
   ]
  },
  {
   "cell_type": "code",
   "execution_count": 14,
   "metadata": {},
   "outputs": [],
   "source": [
    "from sklearn.model_selection import train_test_split\n",
    "from sklearn.linear_model import LogisticRegression\n",
    "from sklearn.metrics import confusion_matrix\n",
    "from sklearn.metrics import classification_report"
   ]
  },
  {
   "cell_type": "code",
   "execution_count": 15,
   "metadata": {},
   "outputs": [],
   "source": [
    "def model_olustur(X, y):\n",
    "    X_eğitim, X_test, y_eğitim, y_test =  train_test_split(X, y, test_size=0.20, random_state=111, stratify = y)\n",
    "    logreg_model = LogisticRegression()\n",
    "    logreg_model.fit(X_eğitim, y_eğitim)\n",
    "\n",
    "    tahmin_eğitim = logreg_model.predict(X_eğitim)\n",
    "    tahmin_test = logreg_model.predict(X_test)\n",
    "    hata_matrisi_eğitim = confusion_matrix(y_eğitim, tahmin_eğitim)\n",
    "    hata_matrisi_test = confusion_matrix(y_test, tahmin_test)\n",
    "    print(\"Modelin doğruluk değeri : \",  logreg_model.score(X_test, y_test))\n",
    "    print(\"Eğitim veri kümesi\")\n",
    "    print(classification_report(y_eğitim,tahmin_eğitim) )\n",
    "    print(\"Test veri kümesi\")\n",
    "    print(classification_report(y_test,tahmin_test) )\n",
    "    return  None"
   ]
  },
  {
   "cell_type": "code",
   "execution_count": 16,
   "metadata": {
    "scrolled": false
   },
   "outputs": [
    {
     "name": "stdout",
     "output_type": "stream",
     "text": [
      "Modelin doğruluk değeri :  0.9166666666666666\n",
      "Eğitim veri kümesi\n",
      "              precision    recall  f1-score   support\n",
      "\n",
      "           0       0.98      0.99      0.99       131\n",
      "           1       0.89      0.80      0.84        10\n",
      "\n",
      "    accuracy                           0.98       141\n",
      "   macro avg       0.94      0.90      0.92       141\n",
      "weighted avg       0.98      0.98      0.98       141\n",
      "\n",
      "Test veri kümesi\n",
      "              precision    recall  f1-score   support\n",
      "\n",
      "           0       0.94      0.97      0.96        33\n",
      "           1       0.50      0.33      0.40         3\n",
      "\n",
      "    accuracy                           0.92        36\n",
      "   macro avg       0.72      0.65      0.68        36\n",
      "weighted avg       0.90      0.92      0.91        36\n",
      "\n"
     ]
    }
   ],
   "source": [
    "X = df.drop('results', axis=1)\n",
    "y = df['results']\n",
    "model_olustur(X,y)"
   ]
  },
  {
   "cell_type": "markdown",
   "metadata": {},
   "source": [
    "### We see that it is not very good at predicting '1' values above."
   ]
  },
  {
   "cell_type": "code",
   "execution_count": 17,
   "metadata": {},
   "outputs": [
    {
     "data": {
      "text/plain": [
       "1    164\n",
       "0    164\n",
       "Name: results, dtype: int64"
      ]
     },
     "execution_count": 17,
     "metadata": {},
     "output_type": "execute_result"
    }
   ],
   "source": [
    "from sklearn.utils import resample\n",
    "Kalp_krizi = df[df.results == 1]\n",
    "Risk_yok = df[df.results == 0]\n",
    "\n",
    "Kalp_krizi_artırılmış = resample(Kalp_krizi,\n",
    "                                     replace = True,\n",
    "                                     n_samples = len(Risk_yok),\n",
    "                                     random_state = 111)\n",
    "\n",
    "artırılmıs_df = pd.concat([ Kalp_krizi_artırılmış,Risk_yok])\n",
    "artırılmıs_df.results.value_counts()\n"
   ]
  },
  {
   "cell_type": "code",
   "execution_count": 18,
   "metadata": {},
   "outputs": [
    {
     "name": "stdout",
     "output_type": "stream",
     "text": [
      "Modelin doğruluk değeri :  0.9696969696969697\n",
      "Eğitim veri kümesi\n",
      "              precision    recall  f1-score   support\n",
      "\n",
      "           0       1.00      0.95      0.97       131\n",
      "           1       0.95      1.00      0.97       131\n",
      "\n",
      "    accuracy                           0.97       262\n",
      "   macro avg       0.97      0.97      0.97       262\n",
      "weighted avg       0.97      0.97      0.97       262\n",
      "\n",
      "Test veri kümesi\n",
      "              precision    recall  f1-score   support\n",
      "\n",
      "           0       1.00      0.94      0.97        33\n",
      "           1       0.94      1.00      0.97        33\n",
      "\n",
      "    accuracy                           0.97        66\n",
      "   macro avg       0.97      0.97      0.97        66\n",
      "weighted avg       0.97      0.97      0.97        66\n",
      "\n"
     ]
    }
   ],
   "source": [
    "X = artırılmıs_df.drop('results', axis=1)\n",
    "y = artırılmıs_df['results']\n",
    "model_olustur(X,y)"
   ]
  },
  {
   "cell_type": "code",
   "execution_count": 19,
   "metadata": {},
   "outputs": [
    {
     "data": {
      "text/plain": [
       "1    13\n",
       "0    13\n",
       "Name: results, dtype: int64"
      ]
     },
     "execution_count": 19,
     "metadata": {},
     "output_type": "execute_result"
    }
   ],
   "source": [
    "Kalp_krizi = df[df.results == 1]\n",
    "Risk_yok = df[df.results == 0]\n",
    "\n",
    "Kalp_krizi_azaltılmış = resample(Risk_yok,\n",
    "                                     replace = True,\n",
    "                                     n_samples = len(Kalp_krizi),\n",
    "                                     random_state = 111)\n",
    "\n",
    "azaltılmış_df = pd.concat([Kalp_krizi, Kalp_krizi_azaltılmış])\n",
    "azaltılmış_df.results.value_counts()"
   ]
  },
  {
   "cell_type": "code",
   "execution_count": 20,
   "metadata": {},
   "outputs": [
    {
     "name": "stdout",
     "output_type": "stream",
     "text": [
      "Modelin doğruluk değeri :  1.0\n",
      "Eğitim veri kümesi\n",
      "              precision    recall  f1-score   support\n",
      "\n",
      "           0       1.00      1.00      1.00        10\n",
      "           1       1.00      1.00      1.00        10\n",
      "\n",
      "    accuracy                           1.00        20\n",
      "   macro avg       1.00      1.00      1.00        20\n",
      "weighted avg       1.00      1.00      1.00        20\n",
      "\n",
      "Test veri kümesi\n",
      "              precision    recall  f1-score   support\n",
      "\n",
      "           0       1.00      1.00      1.00         3\n",
      "           1       1.00      1.00      1.00         3\n",
      "\n",
      "    accuracy                           1.00         6\n",
      "   macro avg       1.00      1.00      1.00         6\n",
      "weighted avg       1.00      1.00      1.00         6\n",
      "\n"
     ]
    }
   ],
   "source": [
    "X = azaltılmış_df.drop('results', axis=1)\n",
    "y = azaltılmış_df['results']\n",
    "model_olustur(X,y)"
   ]
  },
  {
   "cell_type": "code",
   "execution_count": 21,
   "metadata": {
    "scrolled": true
   },
   "outputs": [
    {
     "name": "stdout",
     "output_type": "stream",
     "text": [
      "Requirement already up-to-date: imbalanced-learn in c:\\users\\bahar\\anaconda3\\lib\\site-packages (0.6.1)\n",
      "Requirement already satisfied, skipping upgrade: joblib>=0.11 in c:\\users\\bahar\\anaconda3\\lib\\site-packages (from imbalanced-learn) (0.13.2)\n",
      "Requirement already satisfied, skipping upgrade: scipy>=0.17 in c:\\users\\bahar\\anaconda3\\lib\\site-packages (from imbalanced-learn) (1.3.1)\n",
      "Requirement already satisfied, skipping upgrade: scikit-learn>=0.22 in c:\\users\\bahar\\anaconda3\\lib\\site-packages (from imbalanced-learn) (0.22.1)\n",
      "Requirement already satisfied, skipping upgrade: numpy>=1.11 in c:\\users\\bahar\\anaconda3\\lib\\site-packages (from imbalanced-learn) (1.16.5)\n"
     ]
    }
   ],
   "source": [
    "!pip install -U imbalanced-learn"
   ]
  },
  {
   "cell_type": "code",
   "execution_count": 22,
   "metadata": {},
   "outputs": [],
   "source": [
    "from imblearn.over_sampling import SMOTE"
   ]
  },
  {
   "cell_type": "code",
   "execution_count": 23,
   "metadata": {},
   "outputs": [],
   "source": [
    "y = df.results\n",
    "X = df.drop('results', axis=1)\n",
    "\n",
    "sm = SMOTE(random_state=27)\n",
    "X_smote, y_smote = sm.fit_sample(X, y)"
   ]
  },
  {
   "cell_type": "code",
   "execution_count": 24,
   "metadata": {},
   "outputs": [
    {
     "name": "stdout",
     "output_type": "stream",
     "text": [
      "Modelin doğruluk değeri :  0.9696969696969697\n",
      "Eğitim veri kümesi\n",
      "              precision    recall  f1-score   support\n",
      "\n",
      "           0       1.00      0.95      0.97       131\n",
      "           1       0.95      1.00      0.97       131\n",
      "\n",
      "    accuracy                           0.97       262\n",
      "   macro avg       0.97      0.97      0.97       262\n",
      "weighted avg       0.97      0.97      0.97       262\n",
      "\n",
      "Test veri kümesi\n",
      "              precision    recall  f1-score   support\n",
      "\n",
      "           0       1.00      0.94      0.97        33\n",
      "           1       0.94      1.00      0.97        33\n",
      "\n",
      "    accuracy                           0.97        66\n",
      "   macro avg       0.97      0.97      0.97        66\n",
      "weighted avg       0.97      0.97      0.97        66\n",
      "\n"
     ]
    }
   ],
   "source": [
    "model_olustur(X_smote, y_smote)"
   ]
  },
  {
   "cell_type": "code",
   "execution_count": 27,
   "metadata": {},
   "outputs": [],
   "source": [
    "from imblearn.over_sampling import ADASYN\n",
    "y = df.results\n",
    "X = df.drop('results', axis=1)\n",
    "\n",
    "ad = ADASYN()\n",
    "X_adasyn, y_adasyn = ad.fit_sample(X, y)"
   ]
  },
  {
   "cell_type": "code",
   "execution_count": 28,
   "metadata": {
    "scrolled": true
   },
   "outputs": [
    {
     "name": "stdout",
     "output_type": "stream",
     "text": [
      "Modelin doğruluk değeri :  0.9545454545454546\n",
      "Eğitim veri kümesi\n",
      "              precision    recall  f1-score   support\n",
      "\n",
      "           0       1.00      0.95      0.97       131\n",
      "           1       0.95      1.00      0.97       132\n",
      "\n",
      "    accuracy                           0.97       263\n",
      "   macro avg       0.97      0.97      0.97       263\n",
      "weighted avg       0.97      0.97      0.97       263\n",
      "\n",
      "Test veri kümesi\n",
      "              precision    recall  f1-score   support\n",
      "\n",
      "           0       1.00      0.91      0.95        33\n",
      "           1       0.92      1.00      0.96        33\n",
      "\n",
      "    accuracy                           0.95        66\n",
      "   macro avg       0.96      0.95      0.95        66\n",
      "weighted avg       0.96      0.95      0.95        66\n",
      "\n"
     ]
    }
   ],
   "source": [
    "model_olustur(X_adasyn, y_adasyn)"
   ]
  },
  {
   "cell_type": "markdown",
   "metadata": {},
   "source": [
    "END."
   ]
  }
 ],
 "metadata": {
  "kernelspec": {
   "display_name": "Python 3",
   "language": "python",
   "name": "python3"
  },
  "language_info": {
   "codemirror_mode": {
    "name": "ipython",
    "version": 3
   },
   "file_extension": ".py",
   "mimetype": "text/x-python",
   "name": "python",
   "nbconvert_exporter": "python",
   "pygments_lexer": "ipython3",
   "version": "3.7.4"
  }
 },
 "nbformat": 4,
 "nbformat_minor": 2
}
